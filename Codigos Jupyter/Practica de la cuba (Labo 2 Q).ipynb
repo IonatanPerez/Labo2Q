{
 "cells": [
  {
   "cell_type": "markdown",
   "metadata": {},
   "source": [
    "# Practica de la cuba - Visualizacion y procesamiento de datos#\n",
    "\n",
    "## Objetivo de la practica##\n",
    "\n",
    "En la practica se tiene una cuba con agua (material poco conductor de la electricidad) donde se colocan electrodos con voltaje fijo. Debido a la presencia de los electrodos y a la baja conductividad del agua se genera una leve corriente en el volumen del liquido (que debido a la simetria en z consideramos un plano). Asociada a esta corriente hay un campo electrico que moviliza las cargas y por lo tanto hay un potencial que toma diferentes valores para cad apunto del plano. \n",
    "\n",
    "En la practica, utilizando un multimetro se mide el voltaje en diferentes puntos de la superficie. A partir de dichas mediciones (serie de datos de V en funcion de x e y) de pretende visualizar y procesar los datos para ver como es la forma del campo electrico creado."
   ]
  },
  {
   "cell_type": "markdown",
   "metadata": {},
   "source": [
    "## Introduccion de datos##\n",
    "\n",
    "Para la introduccion de datos queremos tener la opcion de cargar el archivo de datos ya guardado o crear datos nuevos"
   ]
  },
  {
   "cell_type": "code",
   "execution_count": 3,
   "metadata": {},
   "outputs": [],
   "source": [
    "# Procesamiento de datos\n",
    "\n",
    "## Es importante correr esto antes que el bloque anterior porque aca se define el procesamiento de datos al que llaman los botones\n",
    "\n",
    "import pandas as pd\n",
    "%matplotlib notebook\n",
    "import numpy as np\n",
    "import matplotlib.pyplot as plt\n",
    "from mpl_toolkits.mplot3d import Axes3D\n",
    "\n",
    "def cargar_datos():\n",
    "    # Cheqeamos que exista el archivo\n",
    "    nombre_archivo = filename.value+'.csv'\n",
    "    # Chequeamos que exista el archivo\n",
    "    if not os.path.isfile(nombre_archivo):\n",
    "        if filename.value=='':\n",
    "            print ('Debe introducir un nombre de archivo valido')\n",
    "            return\n",
    "        else:\n",
    "            print ('El archivo especificado no fue encontrado (recuerde no incluir el .csv en el nombre')\n",
    "            return\n",
    "    # Leemos los datos\n",
    "    df = pd.read_csv(nombre_archivo)\n",
    "    return df\n",
    "    \n",
    "def ver_archivo (button):\n",
    "    data = cargar_datos()\n",
    "    print ('Contenido del archivo: '+filename.value+'.csv')\n",
    "    display(data)\n",
    "    \n",
    "def ver_3D (button):\n",
    "    data = cargar_datos()\n",
    "    if data is None:\n",
    "        return\n",
    "    ax = plt.axes(projection='3d')\n",
    "    ax.scatter(data['X'].tolist(), data['Y'].tolist(), data['V'].tolist(), c=data['V'].tolist(), cmap='viridis', linewidth=0.5);\n",
    "\n",
    "def autocompletar (data):\n",
    "    # Esta funcion toma los datos medidos que no tienen porque estar equiespaciados y genera una cuadricula de valores\n",
    "    # equiespaciados con una regresion lineal\n",
    "    numero_de_puntos = 100\n",
    "    ti = np.linspace(data['X'].min(), data['X'].max(),numero_de_puntos)"
   ]
  },
  {
   "cell_type": "code",
   "execution_count": 4,
   "metadata": {},
   "outputs": [
    {
     "name": "stdout",
     "output_type": "stream",
     "text": [
      "Nombre del archivo donde se guardaran los datos: (distingue mayusculas de minusculas)\n"
     ]
    },
    {
     "data": {
      "application/vnd.jupyter.widget-view+json": {
       "model_id": "f10aa1cd44d04fc79dd8b9dad4351c5e",
       "version_major": 2,
       "version_minor": 0
      },
      "text/html": [
       "<p>Failed to display Jupyter Widget of type <code>Text</code>.</p>\n",
       "<p>\n",
       "  If you're reading this message in the Jupyter Notebook or JupyterLab Notebook, it may mean\n",
       "  that the widgets JavaScript is still loading. If this message persists, it\n",
       "  likely means that the widgets JavaScript library is either not installed or\n",
       "  not enabled. See the <a href=\"https://ipywidgets.readthedocs.io/en/stable/user_install.html\">Jupyter\n",
       "  Widgets Documentation</a> for setup instructions.\n",
       "</p>\n",
       "<p>\n",
       "  If you're reading this message in another frontend (for example, a static\n",
       "  rendering on GitHub or <a href=\"https://nbviewer.jupyter.org/\">NBViewer</a>),\n",
       "  it may mean that your frontend doesn't currently support widgets.\n",
       "</p>\n"
      ],
      "text/plain": [
       "Text(value='')"
      ]
     },
     "metadata": {},
     "output_type": "display_data"
    },
    {
     "data": {
      "application/vnd.jupyter.widget-view+json": {
       "model_id": "788017887ff24f9db3c01bc255c10411",
       "version_major": 2,
       "version_minor": 0
      },
      "text/html": [
       "<p>Failed to display Jupyter Widget of type <code>Checkbox</code>.</p>\n",
       "<p>\n",
       "  If you're reading this message in the Jupyter Notebook or JupyterLab Notebook, it may mean\n",
       "  that the widgets JavaScript is still loading. If this message persists, it\n",
       "  likely means that the widgets JavaScript library is either not installed or\n",
       "  not enabled. See the <a href=\"https://ipywidgets.readthedocs.io/en/stable/user_install.html\">Jupyter\n",
       "  Widgets Documentation</a> for setup instructions.\n",
       "</p>\n",
       "<p>\n",
       "  If you're reading this message in another frontend (for example, a static\n",
       "  rendering on GitHub or <a href=\"https://nbviewer.jupyter.org/\">NBViewer</a>),\n",
       "  it may mean that your frontend doesn't currently support widgets.\n",
       "</p>\n"
      ],
      "text/plain": [
       "Checkbox(value=False, description='Permitir edición')"
      ]
     },
     "metadata": {},
     "output_type": "display_data"
    },
    {
     "name": "stdout",
     "output_type": "stream",
     "text": [
      "Introduccion de datos nuevos: (use , para marcar decimales si el sistema esta en español)\n"
     ]
    },
    {
     "data": {
      "application/vnd.jupyter.widget-view+json": {
       "model_id": "192bbe325f554eb9bc84653ce90c7fd6",
       "version_major": 2,
       "version_minor": 0
      },
      "text/html": [
       "<p>Failed to display Jupyter Widget of type <code>FloatText</code>.</p>\n",
       "<p>\n",
       "  If you're reading this message in the Jupyter Notebook or JupyterLab Notebook, it may mean\n",
       "  that the widgets JavaScript is still loading. If this message persists, it\n",
       "  likely means that the widgets JavaScript library is either not installed or\n",
       "  not enabled. See the <a href=\"https://ipywidgets.readthedocs.io/en/stable/user_install.html\">Jupyter\n",
       "  Widgets Documentation</a> for setup instructions.\n",
       "</p>\n",
       "<p>\n",
       "  If you're reading this message in another frontend (for example, a static\n",
       "  rendering on GitHub or <a href=\"https://nbviewer.jupyter.org/\">NBViewer</a>),\n",
       "  it may mean that your frontend doesn't currently support widgets.\n",
       "</p>\n"
      ],
      "text/plain": [
       "FloatText(value=0.0, description='X:')"
      ]
     },
     "metadata": {},
     "output_type": "display_data"
    },
    {
     "data": {
      "application/vnd.jupyter.widget-view+json": {
       "model_id": "5aa3da3d8fd247e69bb0f283b65357c6",
       "version_major": 2,
       "version_minor": 0
      },
      "text/html": [
       "<p>Failed to display Jupyter Widget of type <code>FloatText</code>.</p>\n",
       "<p>\n",
       "  If you're reading this message in the Jupyter Notebook or JupyterLab Notebook, it may mean\n",
       "  that the widgets JavaScript is still loading. If this message persists, it\n",
       "  likely means that the widgets JavaScript library is either not installed or\n",
       "  not enabled. See the <a href=\"https://ipywidgets.readthedocs.io/en/stable/user_install.html\">Jupyter\n",
       "  Widgets Documentation</a> for setup instructions.\n",
       "</p>\n",
       "<p>\n",
       "  If you're reading this message in another frontend (for example, a static\n",
       "  rendering on GitHub or <a href=\"https://nbviewer.jupyter.org/\">NBViewer</a>),\n",
       "  it may mean that your frontend doesn't currently support widgets.\n",
       "</p>\n"
      ],
      "text/plain": [
       "FloatText(value=0.0, description='Y:')"
      ]
     },
     "metadata": {},
     "output_type": "display_data"
    },
    {
     "data": {
      "application/vnd.jupyter.widget-view+json": {
       "model_id": "6b19fae33a584d998eb01d34cd90ebdd",
       "version_major": 2,
       "version_minor": 0
      },
      "text/html": [
       "<p>Failed to display Jupyter Widget of type <code>FloatText</code>.</p>\n",
       "<p>\n",
       "  If you're reading this message in the Jupyter Notebook or JupyterLab Notebook, it may mean\n",
       "  that the widgets JavaScript is still loading. If this message persists, it\n",
       "  likely means that the widgets JavaScript library is either not installed or\n",
       "  not enabled. See the <a href=\"https://ipywidgets.readthedocs.io/en/stable/user_install.html\">Jupyter\n",
       "  Widgets Documentation</a> for setup instructions.\n",
       "</p>\n",
       "<p>\n",
       "  If you're reading this message in another frontend (for example, a static\n",
       "  rendering on GitHub or <a href=\"https://nbviewer.jupyter.org/\">NBViewer</a>),\n",
       "  it may mean that your frontend doesn't currently support widgets.\n",
       "</p>\n"
      ],
      "text/plain": [
       "FloatText(value=0.0, description='V:')"
      ]
     },
     "metadata": {},
     "output_type": "display_data"
    },
    {
     "data": {
      "application/vnd.jupyter.widget-view+json": {
       "model_id": "f0d0aa0e0fd942fcad960141620819f3",
       "version_major": 2,
       "version_minor": 0
      },
      "text/html": [
       "<p>Failed to display Jupyter Widget of type <code>Button</code>.</p>\n",
       "<p>\n",
       "  If you're reading this message in the Jupyter Notebook or JupyterLab Notebook, it may mean\n",
       "  that the widgets JavaScript is still loading. If this message persists, it\n",
       "  likely means that the widgets JavaScript library is either not installed or\n",
       "  not enabled. See the <a href=\"https://ipywidgets.readthedocs.io/en/stable/user_install.html\">Jupyter\n",
       "  Widgets Documentation</a> for setup instructions.\n",
       "</p>\n",
       "<p>\n",
       "  If you're reading this message in another frontend (for example, a static\n",
       "  rendering on GitHub or <a href=\"https://nbviewer.jupyter.org/\">NBViewer</a>),\n",
       "  it may mean that your frontend doesn't currently support widgets.\n",
       "</p>\n"
      ],
      "text/plain": [
       "Button(description='Agregar dato', style=ButtonStyle(), tooltip='Boton para agregar datos')"
      ]
     },
     "metadata": {},
     "output_type": "display_data"
    },
    {
     "data": {
      "application/vnd.jupyter.widget-view+json": {
       "model_id": "5c47e21de43b426b8e44d9cc37479137",
       "version_major": 2,
       "version_minor": 0
      },
      "text/html": [
       "<p>Failed to display Jupyter Widget of type <code>Button</code>.</p>\n",
       "<p>\n",
       "  If you're reading this message in the Jupyter Notebook or JupyterLab Notebook, it may mean\n",
       "  that the widgets JavaScript is still loading. If this message persists, it\n",
       "  likely means that the widgets JavaScript library is either not installed or\n",
       "  not enabled. See the <a href=\"https://ipywidgets.readthedocs.io/en/stable/user_install.html\">Jupyter\n",
       "  Widgets Documentation</a> for setup instructions.\n",
       "</p>\n",
       "<p>\n",
       "  If you're reading this message in another frontend (for example, a static\n",
       "  rendering on GitHub or <a href=\"https://nbviewer.jupyter.org/\">NBViewer</a>),\n",
       "  it may mean that your frontend doesn't currently support widgets.\n",
       "</p>\n"
      ],
      "text/plain": [
       "Button(description='Ver datos cargados', style=ButtonStyle(), tooltip='Muestra el contenido del archivo')"
      ]
     },
     "metadata": {},
     "output_type": "display_data"
    },
    {
     "data": {
      "application/vnd.jupyter.widget-view+json": {
       "model_id": "f83901f5088641cb9fc4ae5a30827097",
       "version_major": 2,
       "version_minor": 0
      },
      "text/html": [
       "<p>Failed to display Jupyter Widget of type <code>Button</code>.</p>\n",
       "<p>\n",
       "  If you're reading this message in the Jupyter Notebook or JupyterLab Notebook, it may mean\n",
       "  that the widgets JavaScript is still loading. If this message persists, it\n",
       "  likely means that the widgets JavaScript library is either not installed or\n",
       "  not enabled. See the <a href=\"https://ipywidgets.readthedocs.io/en/stable/user_install.html\">Jupyter\n",
       "  Widgets Documentation</a> for setup instructions.\n",
       "</p>\n",
       "<p>\n",
       "  If you're reading this message in another frontend (for example, a static\n",
       "  rendering on GitHub or <a href=\"https://nbviewer.jupyter.org/\">NBViewer</a>),\n",
       "  it may mean that your frontend doesn't currently support widgets.\n",
       "</p>\n"
      ],
      "text/plain": [
       "Button(description='visalizar en 3D', style=ButtonStyle(), tooltip='Visualizar')"
      ]
     },
     "metadata": {},
     "output_type": "display_data"
    }
   ],
   "source": [
    "from ipywidgets import widgets\n",
    "from IPython.display import display\n",
    "import os\n",
    "import csv\n",
    "\n",
    "## Definimos los widgets y los mostramos en pantalla\n",
    "# Para ver mas detalles: http://ipywidgets.readthedocs.io/en/latest/examples/Widget%20Basics.html\n",
    "# https://blog.dominodatalab.com/interactive-dashboards-in-jupyter/\n",
    "\n",
    "# Nombre del archivo\n",
    "filename = widgets.Text()\n",
    "print ('Nombre del archivo donde se guardaran los datos: (distingue mayusculas de minusculas)')\n",
    "display(filename)\n",
    "\n",
    "# Edicion habilitada\n",
    "editar = widgets.Checkbox(\n",
    "    value=False,\n",
    "    description='Permitir edición',\n",
    "    disabled=False\n",
    ")\n",
    "display (editar)\n",
    "\n",
    "# Nombre del tipo de unidades\n",
    "#unidades = widgets.Text()\n",
    "#print ('Unidad de distancia utilizada (por ej: mm):')\n",
    "#display(unidades)\n",
    "\n",
    "# Introduccion de datos nuevos\n",
    "print ('Introduccion de datos nuevos: (use , para marcar decimales si el sistema esta en español)')\n",
    "coordenadaX = widgets.FloatText(\n",
    "    value=0,\n",
    "    description='X:',\n",
    "    disabled=False\n",
    ")\n",
    "display (coordenadaX)\n",
    "\n",
    "coordenadaY = widgets.FloatText(\n",
    "    value=0,\n",
    "    description='Y:',\n",
    "    disabled=False\n",
    ")\n",
    "display (coordenadaY)\n",
    "\n",
    "voltaje = widgets.FloatText(\n",
    "    value=0,\n",
    "    description='V:',\n",
    "    disabled=False\n",
    ")\n",
    "display (voltaje)\n",
    "\n",
    "def agregar_dato (button):\n",
    "    # Verificamos que no se ingrese un valor en blanco por haber clikeado accidentalmente el boton\n",
    "    if [coordenadaX.value,coordenadaY.value,voltaje.value] == [0,0,0]:\n",
    "        return\n",
    "    \n",
    "    # Documentacion sobre CSV en python http://beancoder.com/csv-files-using-python/\n",
    "    if editar.value:\n",
    "        nombre_archivo = filename.value+'.csv'\n",
    "        # Chequeamos que exista el archivo, sino lo creamos con el header\n",
    "        # Chequeamos que el nombre sea valido\n",
    "        if not os.path.isfile(nombre_archivo):\n",
    "            if filename.value=='':\n",
    "                print ('Debe introducir un nombre de archivo valido')\n",
    "                return\n",
    "            with open(nombre_archivo,'w') as newFile:\n",
    "                newFileWriter = csv.writer(newFile)\n",
    "                newFileWriter.writerow(['X','Y','V'])\n",
    "                print ('Archivo: ' + nombre_archivo + ' creado exitosamente')\n",
    "            \n",
    "        # una vez chequeada la existencia del archivo o creado procedemos a agregar el dato nuevo\n",
    "        with open(nombre_archivo,'a') as newFile:\n",
    "            newFileWriter = csv.writer(newFile)\n",
    "            newFileWriter.writerow([coordenadaX.value,coordenadaY.value,voltaje.value])\n",
    "            print ('Dato ingresado con exito')\n",
    "            # reseteamos los inputs\n",
    "            coordenadaX.value = 0\n",
    "            coordenadaY.value = 0\n",
    "            voltaje.value = 0\n",
    "    else:\n",
    "        print ('Edicion del archivo no habilitada')\n",
    "        \n",
    "        \n",
    "# Boton para agregar datos\n",
    "agregar = widgets.Button(\n",
    "    description='Agregar dato',\n",
    "    disabled=False,\n",
    "    button_style='', # 'success', 'info', 'warning', 'danger' or ''\n",
    "    tooltip='Boton para agregar datos',\n",
    "    #icon='check'\n",
    ")\n",
    "agregar.on_click(agregar_dato)\n",
    "display (agregar)\n",
    "\n",
    "# Boton para ver datos\n",
    "ver_datos = widgets.Button(\n",
    "    description='Ver datos cargados',\n",
    "    disabled=False,\n",
    "    button_style='', # 'success', 'info', 'warning', 'danger' or ''\n",
    "    tooltip='Muestra el contenido del archivo',\n",
    "    #icon='check'\n",
    ")\n",
    "ver_datos.on_click(ver_archivo)\n",
    "display (ver_datos)\n",
    "\n",
    "# Boton para ver en 3D\n",
    "visualizar_3D = widgets.Button(\n",
    "    description='visalizar en 3D',\n",
    "    disabled=False,\n",
    "    button_style='', # 'success', 'info', 'warning', 'danger' or ''\n",
    "    tooltip='Visualizar',\n",
    "    #icon='check'\n",
    ")\n",
    "visualizar_3D.on_click(ver_3D)\n",
    "display (visualizar_3D)\n",
    "\n"
   ]
  },
  {
   "cell_type": "code",
   "execution_count": 3,
   "metadata": {},
   "outputs": [],
   "source": [
    "data = cargar_datos()"
   ]
  },
  {
   "cell_type": "code",
   "execution_count": 7,
   "metadata": {},
   "outputs": [],
   "source": [
    "from scipy import interpolate\n",
    "from scipy.interpolate import griddata\n",
    "\n",
    "\n",
    "# Esta funcion toma los datos medidos que no tienen porque estar equiespaciados y genera una cuadricula de valores\n",
    "# equiespaciados con una regresion lineal\n",
    "\n",
    "# Definimos el numero de puntos en cada eje\n",
    "numero_de_puntos = 10\n",
    "# Creamos los vectores de coordenadas en cada eje\n",
    "ti = np.linspace(data['X'].min(), data['X'].max(),numero_de_puntos)\n",
    "tj = np.linspace(data['Y'].min(), data['Y'].max(),numero_de_puntos)\n",
    "# Creamos la matriz de puntos\n",
    "xi,yi = np.meshgrid(ti,tj)\n",
    "# Creamos el valor de Z que corresponde a cada punto xi,yi interponlando los valores originales\n",
    "zi = griddata((data['X'],data['Y']),data['V'],(xi,yi),method='linear')\n",
    "\n"
   ]
  },
  {
   "cell_type": "code",
   "execution_count": 11,
   "metadata": {},
   "outputs": [
    {
     "data": {
      "text/plain": [
       "array([[10.        ,  6.66666667,  3.33333333,  0.        ,  0.        ,\n",
       "         0.        ,  0.        ,  3.33333333,  6.66666667, 10.        ],\n",
       "       [ 9.44444444,  6.11111111,  3.22222222,  0.55555556,  0.22222222,\n",
       "         0.        ,  0.        ,  1.33333333,  3.33333333,  6.66666667],\n",
       "       [ 8.88888889,  6.88888889,  4.22222222,  1.55555556,  0.16666667,\n",
       "        -0.16666667,  0.55555556,  3.66666667,  5.        ,  3.22222222],\n",
       "       [ 8.33333333,  7.66666667,  7.        ,  4.33333333, -2.33333333,\n",
       "        -2.66666667,  3.33333333,  6.88888889,  4.22222222, -0.66666667],\n",
       "       [ 7.11111111,  6.44444444,  5.77777778,  6.44444444, -0.22222222,\n",
       "        -1.        ,  5.        ,  4.33333333,  1.66666667, -1.        ],\n",
       "       [ 4.88888889,  4.88888889,  6.22222222,  7.55555556,  4.66666667,\n",
       "         3.66666667,  5.        ,  5.33333333,  5.66666667,  4.        ],\n",
       "       [ 1.66666667,  1.66666667,  3.        ,  4.33333333,  3.33333333,\n",
       "         2.33333333,  5.        ,  5.33333333,  5.66666667,  5.66666667],\n",
       "       [-2.22222222, -2.22222222, -2.22222222, -1.77777778, -0.33333333,\n",
       "         2.33333333,  5.        ,  5.11111111,  5.11111111,  5.11111111],\n",
       "       [-0.33333333, -0.33333333,  0.33333333,  2.33333333, -0.66666667,\n",
       "         0.11111111,  2.77777778,  2.77777778,  3.55555556,  5.88888889],\n",
       "       [ 3.        ,  5.        ,  7.        ,  9.        ,  6.        ,\n",
       "         3.        ,  0.        ,  2.33333333,  4.66666667,  7.        ]])"
      ]
     },
     "execution_count": 11,
     "metadata": {},
     "output_type": "execute_result"
    }
   ],
   "source": [
    "zi"
   ]
  }
 ],
 "metadata": {
  "kernelspec": {
   "display_name": "Python 3",
   "language": "python",
   "name": "python3"
  },
  "language_info": {
   "codemirror_mode": {
    "name": "ipython",
    "version": 3
   },
   "file_extension": ".py",
   "mimetype": "text/x-python",
   "name": "python",
   "nbconvert_exporter": "python",
   "pygments_lexer": "ipython3",
   "version": "3.6.4"
  }
 },
 "nbformat": 4,
 "nbformat_minor": 2
}
